{
 "cells": [
  {
   "cell_type": "markdown",
   "metadata": {},
   "source": [
    "# Continuous Control\n",
    "\n",
    "---\n",
    "\n",
    "## DRL Project 2\n",
    "Qian Sun\n",
    "\n",
    "### 1. Start the Environment\n",
    "\n",
    "Run the next code cell to install a few packages.  This line will take a few minutes to run!"
   ]
  },
  {
   "cell_type": "code",
   "execution_count": 1,
   "metadata": {
    "scrolled": false
   },
   "outputs": [
    {
     "name": "stdout",
     "output_type": "stream",
     "text": [
      "\u001b[31mtensorflow 1.7.1 has requirement numpy>=1.13.3, but you'll have numpy 1.12.1 which is incompatible.\u001b[0m\r\n",
      "\u001b[31mipython 6.5.0 has requirement prompt-toolkit<2.0.0,>=1.0.15, but you'll have prompt-toolkit 3.0.16 which is incompatible.\u001b[0m\r\n"
     ]
    }
   ],
   "source": [
    "!pip -q install ./python"
   ]
  },
  {
   "cell_type": "markdown",
   "metadata": {},
   "source": [
    "The environments corresponding to both versions of the environment are already saved in the Workspace and can be accessed at the file paths provided below.  \n",
    "\n",
    "Please select one of the two options below for loading the environment."
   ]
  },
  {
   "cell_type": "code",
   "execution_count": 2,
   "metadata": {},
   "outputs": [
    {
     "name": "stderr",
     "output_type": "stream",
     "text": [
      "INFO:unityagents:\n",
      "'Academy' started successfully!\n",
      "Unity Academy name: Academy\n",
      "        Number of Brains: 1\n",
      "        Number of External Brains : 1\n",
      "        Lesson number : 0\n",
      "        Reset Parameters :\n",
      "\t\tgoal_speed -> 1.0\n",
      "\t\tgoal_size -> 5.0\n",
      "Unity brain name: ReacherBrain\n",
      "        Number of Visual Observations (per agent): 0\n",
      "        Vector Observation space type: continuous\n",
      "        Vector Observation space size (per agent): 33\n",
      "        Number of stacked Vector Observation: 1\n",
      "        Vector Action space type: continuous\n",
      "        Vector Action space size (per agent): 4\n",
      "        Vector Action descriptions: , , , \n"
     ]
    }
   ],
   "source": [
    "from unityagents import UnityEnvironment\n",
    "import numpy as np\n",
    "\n",
    "# select this option to load version 2 (with 20 agents) of the environment\n",
    "env = UnityEnvironment(file_name='/data/Reacher_Linux_NoVis/Reacher.x86_64')"
   ]
  },
  {
   "cell_type": "markdown",
   "metadata": {},
   "source": [
    "Environments contain **_brains_** which are responsible for deciding the actions of their associated agents. Here we check for the first brain available, and set it as the default brain we will be controlling from Python."
   ]
  },
  {
   "cell_type": "code",
   "execution_count": 3,
   "metadata": {},
   "outputs": [],
   "source": [
    "# get the default brain\n",
    "brain_name = env.brain_names[0]\n",
    "brain = env.brains[brain_name]"
   ]
  },
  {
   "cell_type": "markdown",
   "metadata": {},
   "source": [
    "### 2. Examine the State and Action Spaces\n",
    "\n",
    "Run the code cell below to print some information about the environment."
   ]
  },
  {
   "cell_type": "code",
   "execution_count": 4,
   "metadata": {},
   "outputs": [
    {
     "name": "stdout",
     "output_type": "stream",
     "text": [
      "Number of agents: 20\n",
      "Size of each action: 4\n",
      "There are 20 agents. Each observes a state with length: 33\n",
      "The state for the first agent looks like: [  0.00000000e+00  -4.00000000e+00   0.00000000e+00   1.00000000e+00\n",
      "  -0.00000000e+00  -0.00000000e+00  -4.37113883e-08   0.00000000e+00\n",
      "   0.00000000e+00   0.00000000e+00   0.00000000e+00   0.00000000e+00\n",
      "   0.00000000e+00   0.00000000e+00  -1.00000000e+01   0.00000000e+00\n",
      "   1.00000000e+00  -0.00000000e+00  -0.00000000e+00  -4.37113883e-08\n",
      "   0.00000000e+00   0.00000000e+00   0.00000000e+00   0.00000000e+00\n",
      "   0.00000000e+00   0.00000000e+00   5.75471878e+00  -1.00000000e+00\n",
      "   5.55726624e+00   0.00000000e+00   1.00000000e+00   0.00000000e+00\n",
      "  -1.68164849e-01]\n"
     ]
    }
   ],
   "source": [
    "# reset the environment\n",
    "env_info = env.reset(train_mode=True)[brain_name]\n",
    "\n",
    "# number of agents\n",
    "num_agents = len(env_info.agents)\n",
    "print('Number of agents:', num_agents)\n",
    "\n",
    "# size of each action\n",
    "action_size = brain.vector_action_space_size\n",
    "print('Size of each action:', action_size)\n",
    "\n",
    "# examine the state space \n",
    "states = env_info.vector_observations\n",
    "state_size = states.shape[1]\n",
    "print('There are {} agents. Each observes a state with length: {}'.format(states.shape[0], state_size))\n",
    "print('The state for the first agent looks like:', states[0])"
   ]
  },
  {
   "cell_type": "markdown",
   "metadata": {},
   "source": [
    "### 3. My Implementation"
   ]
  },
  {
   "cell_type": "markdown",
   "metadata": {},
   "source": [
    "Firstly, we import some necessary dependencies."
   ]
  },
  {
   "cell_type": "code",
   "execution_count": 5,
   "metadata": {
    "scrolled": true
   },
   "outputs": [],
   "source": [
    "import gym, random, torch, time\n",
    "from collections import deque\n",
    "import matplotlib.pyplot as plt\n",
    "%matplotlib inline\n",
    "\n",
    "from ddpg_agent import Agent"
   ]
  },
  {
   "cell_type": "code",
   "execution_count": 6,
   "metadata": {
    "scrolled": true
   },
   "outputs": [],
   "source": [
    "# choose the random state to be 3\n",
    "agent = Agent(state_size=state_size, action_size=action_size, num_agents=num_agents, random_seed=3)"
   ]
  },
  {
   "cell_type": "code",
   "execution_count": 7,
   "metadata": {},
   "outputs": [],
   "source": [
    "def ddpg(n_episodes=2000, max_t=1000, print_every=10):\n",
    "    scores_deque = deque(maxlen=100)\n",
    "    scores = []\n",
    "    for i_episode in range(1, n_episodes+1):\n",
    "        current_scores = np.zeros(num_agents) \n",
    "        env_info = env.reset(train_mode=True)[brain_name]\n",
    "        states = env_info.vector_observations\n",
    "        \n",
    "        agent.reset()\n",
    "        start_time = time.time()\n",
    "        for t in range(max_t):\n",
    "            actions = agent.act(states)\n",
    "            env_info = env.step(actions)[brain_name]\n",
    "            next_states = env_info.vector_observations\n",
    "            rewards = env_info.rewards\n",
    "            dones = env_info.local_done\n",
    "\n",
    "            agent.step(states=states, actions=actions, rewards=rewards, next_states=next_states, dones=dones)\n",
    "            current_scores += np.array(rewards)\n",
    "            states = next_states\n",
    "            if np.any(dones):\n",
    "                break\n",
    "\n",
    "        score = np.mean(current_scores)\n",
    "        scores_deque.append(score)\n",
    "        scores.append(score)\n",
    "        average_score = np.mean(scores_deque)\n",
    "        \n",
    "        print('\\rEpisode {} ({}s) \\tAverage Score: {:.2f} \\tCurrent Score: {:.2f}'.format(i_episode, int(time.time()-start_time), average_score, score), end=\"\")\n",
    "        if i_episode % print_every == 0:\n",
    "            print('\\rEpisode {} \\tAverage Score: {:.2f} \\tAverage Bin Score: {:.2f}'.format(i_episode, average_score, np.mean(scores[-print_every:])))\n",
    "        if average_score >= 30.0:\n",
    "            print('\\nEnvironment solved in {} episodes!\\tAverage Score: {:.2f}'.format(i_episode-100, average_score))\n",
    "            torch.save(agent.actor_local.state_dict(), 'actor.pth')\n",
    "            torch.save(agent.critic_local.state_dict(), 'critic.pth')\n",
    "            break\n",
    "    return scores"
   ]
  },
  {
   "cell_type": "code",
   "execution_count": null,
   "metadata": {},
   "outputs": [
    {
     "name": "stdout",
     "output_type": "stream",
     "text": [
      "Episode 10 \tAverage Score: 0.87 \tAverage Bin Score: 0.8723\n",
      "Episode 20 \tAverage Score: 1.15 \tAverage Bin Score: 1.4288\n",
      "Episode 30 \tAverage Score: 1.44 \tAverage Bin Score: 2.0405\n",
      "Episode 40 \tAverage Score: 1.76 \tAverage Bin Score: 2.7027\n",
      "Episode 50 \tAverage Score: 2.20 \tAverage Bin Score: 3.9824\n",
      "Episode 60 \tAverage Score: 2.58 \tAverage Bin Score: 4.4575\n",
      "Episode 70 \tAverage Score: 2.94 \tAverage Bin Score: 5.1077\n",
      "Episode 80 \tAverage Score: 3.19 \tAverage Bin Score: 4.9248\n",
      "Episode 90 \tAverage Score: 3.44 \tAverage Bin Score: 5.5015\n",
      "Episode 100 \tAverage Score: 3.79 \tAverage Bin Score: 6.9550\n",
      "Episode 110 \tAverage Score: 4.49 \tAverage Bin Score: 7.7900\n",
      "Episode 120 \tAverage Score: 5.20 \tAverage Bin Score: 8.5787\n",
      "Episode 130 \tAverage Score: 5.89 \tAverage Bin Score: 8.92610\n",
      "Episode 135 (16s) \tAverage Score: 6.29 \tCurrent Score: 10.60"
     ]
    }
   ],
   "source": [
    "tic = time.time()\n",
    "scores = ddpg()\n",
    "toc = time.time()\n",
    "print(\"Runtime (in seconds) %d\" % int(toc-tic))\n",
    "\n",
    "fig = plt.figure()\n",
    "ax = fig.add_subplot(111)\n",
    "plt.plot(np.arange(1, len(scores)+1), scores)\n",
    "plt.ylabel('Score')\n",
    "plt.xlabel('Episode #')\n",
    "plt.savefig('results/ddpg_scores.png', bbox_inches='tight')\n",
    "plt.title('DDPG scores')\n",
    "plt.show()"
   ]
  },
  {
   "cell_type": "markdown",
   "metadata": {},
   "source": [
    "### Misc: Some failed/unfinished trials with other paramter sets"
   ]
  },
  {
   "cell_type": "code",
   "execution_count": null,
   "metadata": {},
   "outputs": [
    {
     "name": "stdout",
     "output_type": "stream",
     "text": [
      "Episode 10 \tAverage Score: 0.38 \tAverage Bin Score: 0.382\n",
      "Episode 20 \tAverage Score: 0.66 \tAverage Bin Score: 0.939\n",
      "Episode 30 \tAverage Score: 0.95 \tAverage Bin Score: 1.5493\n",
      "Episode 40 \tAverage Score: 1.25 \tAverage Bin Score: 2.1638\n",
      "Episode 50 \tAverage Score: 1.53 \tAverage Bin Score: 2.6350\n",
      "Episode 60 \tAverage Score: 1.64 \tAverage Bin Score: 2.2058\n",
      "Episode 70 \tAverage Score: 1.97 \tAverage Bin Score: 3.9367\n",
      "Episode 80 \tAverage Score: 2.43 \tAverage Bin Score: 5.6486\n",
      "Episode 90 \tAverage Score: 2.78 \tAverage Bin Score: 5.6094\n",
      "Episode 100 \tAverage Score: 3.27 \tAverage Bin Score: 7.7125\n",
      "Episode 110 \tAverage Score: 4.10 \tAverage Bin Score: 8.6467\n",
      "Episode 120 \tAverage Score: 4.95 \tAverage Bin Score: 9.49.81\n",
      "Episode 130 \tAverage Score: 5.81 \tAverage Bin Score: 10.0727\n",
      "Episode 140 \tAverage Score: 6.30 \tAverage Bin Score: 7.0815\n",
      "Episode 148 (12s) \tAverage Score: 6.72 \tCurrent Score: 9.204"
     ]
    }
   ],
   "source": [
    "tic = time.time()\n",
    "scores = ddpg()\n",
    "toc = time.time()\n",
    "print(\"Runtime (in seconds) %d\" % int(toc-tic))\n",
    "\n",
    "fig = plt.figure()\n",
    "ax = fig.add_subplot(111)\n",
    "plt.plot(np.arange(1, len(scores)+1), scores)\n",
    "plt.ylabel('Score')\n",
    "plt.xlabel('Episode #')\n",
    "plt.savefig('results/ddpg_scores.png', bbox_inches='tight')\n",
    "plt.title('DDPG scores')\n",
    "plt.show()"
   ]
  },
  {
   "cell_type": "code",
   "execution_count": null,
   "metadata": {},
   "outputs": [
    {
     "name": "stdout",
     "output_type": "stream",
     "text": [
      "Episode 10 \tAverage Score: 0.72 \tAverage Bin Score: 0.7280\n",
      "Episode 20 \tAverage Score: 1.22 \tAverage Bin Score: 1.7211\n",
      "Episode 30 \tAverage Score: 1.75 \tAverage Bin Score: 2.8119\n",
      "Episode 40 \tAverage Score: 2.29 \tAverage Bin Score: 3.9208\n",
      "Episode 50 \tAverage Score: 2.81 \tAverage Bin Score: 4.9005\n",
      "Episode 60 \tAverage Score: 3.30 \tAverage Bin Score: 5.7476\n",
      "Episode 70 \tAverage Score: 3.81 \tAverage Bin Score: 6.8981\n",
      "Episode 80 \tAverage Score: 4.21 \tAverage Bin Score: 6.9594\n",
      "Episode 90 \tAverage Score: 4.63 \tAverage Bin Score: 8.07.63\n",
      "Episode 100 \tAverage Score: 5.22 \tAverage Bin Score: 10.516\n",
      "Episode 110 \tAverage Score: 6.28 \tAverage Bin Score: 11.3334\n",
      "Episode 120 \tAverage Score: 7.55 \tAverage Bin Score: 14.3941\n",
      "Episode 130 \tAverage Score: 9.11 \tAverage Bin Score: 18.3755\n",
      "Episode 140 \tAverage Score: 11.24 \tAverage Bin Score: 25.2556\n",
      "Episode 150 \tAverage Score: 13.69 \tAverage Bin Score: 29.3898\n",
      "Episode 160 \tAverage Score: 16.03 \tAverage Bin Score: 29.1600\n",
      "Episode 170 \tAverage Score: 18.46 \tAverage Bin Score: 31.1805\n",
      "Episode 180 \tAverage Score: 21.12 \tAverage Bin Score: 33.6121\n",
      "Episode 190 \tAverage Score: 23.57 \tAverage Bin Score: 32.5526\n",
      "Episode 200 \tAverage Score: 25.55 \tAverage Bin Score: 30.3040\n",
      "Episode 210 \tAverage Score: 27.18 \tAverage Bin Score: 27.6323\n",
      "Episode 220 \tAverage Score: 28.50 \tAverage Bin Score: 27.5713\n",
      "Episode 230 \tAverage Score: 29.62 \tAverage Bin Score: 29.5652\n",
      "Episode 240 \tAverage Score: 29.91 \tAverage Bin Score: 28.1682\n",
      "Episode 250 \tAverage Score: 29.69 \tAverage Bin Score: 27.1725\n",
      "Episode 260 \tAverage Score: 29.31 \tAverage Bin Score: 25.3721\n",
      "Episode 270 \tAverage Score: 28.47 \tAverage Bin Score: 22.7744\n",
      "Episode 280 \tAverage Score: 27.52 \tAverage Bin Score: 24.0979\n",
      "Episode 290 \tAverage Score: 27.05 \tAverage Bin Score: 27.8289\n",
      "Episode 299 (16s) \tAverage Score: 26.60 \tCurrent Score: 23.76"
     ]
    }
   ],
   "source": [
    "tic = time.time()\n",
    "scores = ddpg()\n",
    "toc = time.time()\n",
    "print(\"Runtime (in seconds) %d\" % int(toc-tic))\n",
    "\n",
    "fig = plt.figure()\n",
    "ax = fig.add_subplot(111)\n",
    "plt.plot(np.arange(1, len(scores)+1), scores)\n",
    "plt.ylabel('Score')\n",
    "plt.xlabel('Episode #')\n",
    "plt.savefig('results/ddpg_scores.png', bbox_inches='tight')\n",
    "plt.title('DDPG scores')\n",
    "plt.show()"
   ]
  },
  {
   "cell_type": "code",
   "execution_count": null,
   "metadata": {},
   "outputs": [
    {
     "name": "stdout",
     "output_type": "stream",
     "text": [
      "Episode 10 \tAverage Score: 1.50 \tAverage Bin Score: 1.5044\n",
      "Episode 20 \tAverage Score: 2.40 \tAverage Bin Score: 3.3074\n",
      "Episode 30 \tAverage Score: 5.40 \tAverage Bin Score: 11.4157\n",
      "Episode 40 \tAverage Score: 8.71 \tAverage Bin Score: 18.6161\n",
      "Episode 50 \tAverage Score: 11.87 \tAverage Bin Score: 24.5419\n",
      "Episode 60 \tAverage Score: 15.00 \tAverage Bin Score: 30.6260\n",
      "Episode 70 \tAverage Score: 17.29 \tAverage Bin Score: 31.0786\n",
      "Episode 80 \tAverage Score: 19.35 \tAverage Bin Score: 33.7641\n",
      "Episode 90 \tAverage Score: 20.86 \tAverage Bin Score: 32.9217\n",
      "Episode 100 \tAverage Score: 21.99 \tAverage Bin Score: 32.1805\n",
      "Episode 110 \tAverage Score: 25.02 \tAverage Bin Score: 31.7808\n",
      "Episode 120 \tAverage Score: 27.58 \tAverage Bin Score: 28.9393\n",
      "Episode 130 \tAverage Score: 29.03 \tAverage Bin Score: 25.8624\n",
      "Episode 140 \tAverage Score: 29.72 \tAverage Bin Score: 25.5281\n",
      "Episode 150 \tAverage Score: 29.93 \tAverage Bin Score: 26.6464\n",
      "Episode 160 \tAverage Score: 29.51 \tAverage Bin Score: 26.4114\n",
      "Episode 170 \tAverage Score: 29.18 \tAverage Bin Score: 27.7855\n",
      "Episode 180 \tAverage Score: 28.74 \tAverage Bin Score: 29.3283\n",
      "Episode 190 \tAverage Score: 28.53 \tAverage Bin Score: 30.8825\n",
      "Episode 200 \tAverage Score: 28.14 \tAverage Bin Score: 28.2849\n",
      "Episode 210 \tAverage Score: 27.70 \tAverage Bin Score: 27.3309\n",
      "Episode 220 \tAverage Score: 27.60 \tAverage Bin Score: 27.9452\n",
      "Episode 225 (23s) \tAverage Score: 27.75 \tCurrent Score: 26.48"
     ]
    }
   ],
   "source": [
    "tic = time.time()\n",
    "scores = ddpg()\n",
    "toc = time.time()\n",
    "print(\"Runtime (in seconds) %d\" % int(toc-tic))\n",
    "\n",
    "fig = plt.figure()\n",
    "ax = fig.add_subplot(111)\n",
    "plt.plot(np.arange(1, len(scores)+1), scores)\n",
    "plt.ylabel('Score')\n",
    "plt.xlabel('Episode #')\n",
    "plt.savefig('results/ddpg_scores.png', bbox_inches='tight')\n",
    "plt.title('DDPG scores')\n",
    "plt.show()"
   ]
  },
  {
   "cell_type": "code",
   "execution_count": null,
   "metadata": {},
   "outputs": [
    {
     "name": "stdout",
     "output_type": "stream",
     "text": [
      "Episode 10 \tAverage Score: 1.50 \tAverage Bin Score: 1.5044\n",
      "Episode 20 \tAverage Score: 2.40 \tAverage Bin Score: 3.3074\n",
      "Episode 30 \tAverage Score: 5.40 \tAverage Bin Score: 11.4157\n",
      "Episode 40 \tAverage Score: 8.71 \tAverage Bin Score: 18.6161\n",
      "Episode 50 \tAverage Score: 11.87 \tAverage Bin Score: 24.5419\n",
      "Episode 60 \tAverage Score: 15.00 \tAverage Bin Score: 30.6260\n",
      "Episode 70 \tAverage Score: 17.29 \tAverage Bin Score: 31.0786\n",
      "Episode 80 \tAverage Score: 19.35 \tAverage Bin Score: 33.7641\n",
      "Episode 90 \tAverage Score: 20.86 \tAverage Bin Score: 32.9217\n",
      "Episode 100 \tAverage Score: 21.99 \tAverage Bin Score: 32.1805\n",
      "Episode 110 \tAverage Score: 25.02 \tAverage Bin Score: 31.7808\n",
      "Episode 120 \tAverage Score: 27.58 \tAverage Bin Score: 28.9393\n"
     ]
    }
   ],
   "source": [
    "tic = time.time()\n",
    "scores = ddpg()\n",
    "toc = time.time()\n",
    "print(\"Runtime (in seconds) %d\" % int(toc-tic))\n",
    "\n",
    "fig = plt.figure()\n",
    "ax = fig.add_subplot(111)\n",
    "plt.plot(np.arange(1, len(scores)+1), scores)\n",
    "plt.ylabel('Score')\n",
    "plt.xlabel('Episode #')\n",
    "plt.savefig('results/ddpg_scores.png', bbox_inches='tight')\n",
    "plt.title('DDPG scores')\n",
    "plt.show()"
   ]
  },
  {
   "cell_type": "code",
   "execution_count": null,
   "metadata": {},
   "outputs": [
    {
     "name": "stdout",
     "output_type": "stream",
     "text": [
      "Episode 10 |\tAverage Score: 1.21 \tCurrent Score: 1.66: 1.66\n",
      "Episode 20 |\tAverage Score: 1.73 \tCurrent Score: 2.73: 2.73\n",
      "Episode 30 |\tAverage Score: 1.99 \tCurrent Score: 2.87: 2.87\n",
      "Episode 40 |\tAverage Score: 2.55 \tCurrent Score: 4.64: 4.64\n",
      "Episode 50 |\tAverage Score: 3.13 \tCurrent Score: 6.79: 6.79\n",
      "Episode 60 |\tAverage Score: 3.97 \tCurrent Score: 9.08: 9.08\n",
      "Episode 70 |\tAverage Score: 4.75 \tCurrent Score: 12.33 12.33\n",
      "Episode 80 |\tAverage Score: 5.61 \tCurrent Score: 10.97 10.97\n",
      "Episode 90 |\tAverage Score: 6.17 \tCurrent Score: 8.84: 8.846\n",
      "Episode 100 |\tAverage Score: 6.43 \tCurrent Score: 7.86: 7.86\n",
      "Episode 110 |\tAverage Score: 7.16 \tCurrent Score: 8.32: 8.326\n",
      "Episode 120 |\tAverage Score: 8.22 \tCurrent Score: 10.35 10.35\n",
      "Episode 130 |\tAverage Score: 9.48 \tCurrent Score: 19.33 19.33\n",
      "Episode 140 |\tAverage Score: 11.07 \tCurrent Score: 20.22 20.22\n",
      "Episode 150 |\tAverage Score: 12.77 \tCurrent Score: 24.35 24.35\n",
      "Episode 160 |\tAverage Score: 14.48 \tCurrent Score: 28.97 28.97\n",
      "Episode 170 |\tAverage Score: 16.17 \tCurrent Score: 28.97 28.97\n",
      "Episode 180 |\tAverage Score: 17.81 \tCurrent Score: 27.88 27.88\n",
      "Episode 190 |\tAverage Score: 19.76 \tCurrent Score: 31.29 31.29\n",
      "Episode 200 |\tAverage Score: 21.84 \tCurrent Score: 27.30 27.30\n",
      "Episode 210 |\tAverage Score: 23.77 \tCurrent Score: 30.42 30.42\n",
      "Episode 220 |\tAverage Score: 25.23 \tCurrent Score: 26.53 26.53\n",
      "Episode 230 |\tAverage Score: 26.52 \tCurrent Score: 29.58 29.58\n",
      "Episode 240 |\tAverage Score: 27.41 \tCurrent Score: 29.81 29.81\n",
      "Episode 249 (17s) |\tAverage Score: 28.03 \tCurrent Score: 26.51"
     ]
    }
   ],
   "source": [
    "tic = time.time()\n",
    "scores = ddpg()\n",
    "toc = time.time()\n",
    "print(\"Runtime (in seconds) %d\" % int(toc-tic))\n",
    "\n",
    "fig = plt.figure()\n",
    "ax = fig.add_subplot(111)\n",
    "plt.plot(np.arange(1, len(scores)+1), scores)\n",
    "plt.ylabel('Score')\n",
    "plt.xlabel('Episode #')\n",
    "plt.savefig('results/ddpg_scores.png', bbox_inches='tight')\n",
    "plt.title('DDPG scores')\n",
    "plt.show()"
   ]
  },
  {
   "cell_type": "code",
   "execution_count": null,
   "metadata": {},
   "outputs": [
    {
     "name": "stdout",
     "output_type": "stream",
     "text": [
      "Episode 10\tAverage Score: 0.48\tScore: 0.61\n",
      "Episode 20\tAverage Score: 0.45\tScore: 0.30\n",
      "Episode 30\tAverage Score: 0.46\tScore: 0.72\n",
      "Episode 40\tAverage Score: 0.66\tScore: 1.59\n",
      "Episode 50\tAverage Score: 0.97\tScore: 2.14\n",
      "Episode 60\tAverage Score: 1.34\tScore: 3.37\n",
      "Episode 70\tAverage Score: 1.83\tScore: 5.72\n",
      "Episode 80\tAverage Score: 2.35\tScore: 6.32\n",
      "Episode 90\tAverage Score: 2.97\tScore: 8.932\n",
      "Episode 100\tAverage Score: 3.77\tScore: 13.92\n",
      "Episode 110\tAverage Score: 5.18\tScore: 14.97\n",
      "Episode 120\tAverage Score: 6.78\tScore: 17.06\n",
      "Episode 130\tAverage Score: 8.60\tScore: 17.67\n",
      "Episode 140\tAverage Score: 10.35\tScore: 20.48\n",
      "Episode 150\tAverage Score: 12.24\tScore: 22.32\n",
      "Episode 160\tAverage Score: 14.07\tScore: 21.01\n",
      "Episode 170\tAverage Score: 15.79\tScore: 20.00\n",
      "Episode 180\tAverage Score: 17.56\tScore: 25.76\n",
      "Episode 190\tAverage Score: 19.32\tScore: 26.33\n",
      "Episode 200\tAverage Score: 20.91\tScore: 26.86\n",
      "Episode 210\tAverage Score: 22.15\tScore: 26.83\n",
      "Episode 220\tAverage Score: 23.22\tScore: 27.02\n",
      "Episode 230\tAverage Score: 24.02\tScore: 26.57\n",
      "Episode 240\tAverage Score: 24.87\tScore: 27.25\n",
      "Episode 250\tAverage Score: 25.48\tScore: 26.97\n"
     ]
    }
   ],
   "source": [
    "tic = time.time()\n",
    "scores = ddpg()\n",
    "toc = time.time()\n",
    "print(\"Runtime (in seconds) %d\" % int(toc-tic))\n",
    "\n",
    "fig = plt.figure()\n",
    "ax = fig.add_subplot(111)\n",
    "plt.plot(np.arange(1, len(scores)+1), scores)\n",
    "plt.ylabel('Score')\n",
    "plt.xlabel('Episode #')\n",
    "plt.savefig('results/ddpg_scores.png', bbox_inches='tight')\n",
    "plt.title('DDPG scores')\n",
    "plt.show()"
   ]
  },
  {
   "cell_type": "code",
   "execution_count": null,
   "metadata": {},
   "outputs": [
    {
     "name": "stdout",
     "output_type": "stream",
     "text": [
      "Episode 10\tAverage Score: 0.53\tScore: 0.53\n",
      "Episode 20\tAverage Score: 0.59\tScore: 0.80\n",
      "Episode 30\tAverage Score: 0.60\tScore: 0.68\n",
      "Episode 40\tAverage Score: 0.67\tScore: 1.12\n",
      "Episode 50\tAverage Score: 0.80\tScore: 1.25\n",
      "Episode 60\tAverage Score: 1.04\tScore: 2.55\n",
      "Episode 70\tAverage Score: 1.33\tScore: 3.30\n",
      "Episode 80\tAverage Score: 1.67\tScore: 4.92\n",
      "Episode 90\tAverage Score: 2.12\tScore: 7.05\n",
      "Episode 100\tAverage Score: 2.73\tScore: 11.68\n",
      "Episode 110\tAverage Score: 4.15\tScore: 14.88\n",
      "Episode 120\tAverage Score: 5.90\tScore: 19.21\n",
      "Episode 130\tAverage Score: 7.91\tScore: 21.81\n",
      "Episode 140\tAverage Score: 10.17\tScore: 25.53\n",
      "Episode 150\tAverage Score: 12.63\tScore: 26.78\n",
      "Episode 160\tAverage Score: 15.05\tScore: 27.11\n",
      "Episode 170\tAverage Score: 17.47\tScore: 27.39\n",
      "Episode 180\tAverage Score: 19.79\tScore: 27.27\n",
      "Episode 190\tAverage Score: 21.96\tScore: 27.39\n",
      "Episode 200\tAverage Score: 23.87\tScore: 27.17\n",
      "Episode 210\tAverage Score: 25.09\tScore: 26.36\n",
      "Episode 220\tAverage Score: 25.96\tScore: 27.10\n",
      "Episode 230\tAverage Score: 26.54\tScore: 27.09\n",
      "Episode 240\tAverage Score: 26.87\tScore: 25.70\n",
      "Episode 250\tAverage Score: 26.83\tScore: 25.31\n",
      "Episode 260\tAverage Score: 26.77\tScore: 26.51\n",
      "Episode 270\tAverage Score: 26.70\tScore: 26.81\n",
      "Episode 280\tAverage Score: 26.58\tScore: 26.21\n",
      "Episode 290\tAverage Score: 26.45\tScore: 26.35\n",
      "Episode 300\tAverage Score: 26.35\tScore: 26.79\n",
      "Episode 310\tAverage Score: 26.21\tScore: 22.35\n",
      "Episode 312\tAverage Score: 26.15\tScore: 24.75"
     ]
    }
   ],
   "source": [
    "tic = time.time()\n",
    "scores = ddpg()\n",
    "toc = time.time()\n",
    "print(\"Runtime (in seconds) %d\" % int(toc-tic))\n",
    "\n",
    "fig = plt.figure()\n",
    "ax = fig.add_subplot(111)\n",
    "plt.plot(np.arange(1, len(scores)+1), scores)\n",
    "plt.ylabel('Score')\n",
    "plt.xlabel('Episode #')\n",
    "plt.savefig('results/ddpg_scores.png', bbox_inches='tight')\n",
    "plt.title('DDPG scores')\n",
    "plt.show()"
   ]
  }
 ],
 "metadata": {
  "kernelspec": {
   "display_name": "Python 3",
   "language": "python",
   "name": "python3"
  },
  "language_info": {
   "codemirror_mode": {
    "name": "ipython",
    "version": 3
   },
   "file_extension": ".py",
   "mimetype": "text/x-python",
   "name": "python",
   "nbconvert_exporter": "python",
   "pygments_lexer": "ipython3",
   "version": "3.6.3"
  }
 },
 "nbformat": 4,
 "nbformat_minor": 2
}
